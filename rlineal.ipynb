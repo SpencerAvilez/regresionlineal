{
 "cells": [
  {
   "cell_type": "code",
   "execution_count": 1,
   "id": "7f6dabb9-b394-44d9-b244-3daad38c4b0c",
   "metadata": {},
   "outputs": [],
   "source": [
    "# Cargamos a nuestro entorno de trabajo las librerias necesarias.\n",
    "\n",
    "import matplotlib.pyplot as plt\n",
    "from sklearn import linear_model # usando sklear para saber los valores optimos\n",
    "import seaborn as sns\n",
    "import numpy as np\n",
    "import pandas as pd"
   ]
  },
  {
   "cell_type": "code",
   "execution_count": 2,
   "id": "bddd0191-7882-498c-8d5d-47f10e758bd1",
   "metadata": {
    "tags": []
   },
   "outputs": [],
   "source": [
    "data = pd.read_csv(\"C:/Users/USUARIO/Desktop/data.csv\", sep=\",\")"
   ]
  },
  {
   "cell_type": "code",
   "execution_count": 3,
   "id": "92ce5c07-9243-4446-84ba-5fcb2991c0ed",
   "metadata": {
    "tags": []
   },
   "outputs": [
    {
     "data": {
      "text/html": [
       "<div>\n",
       "<style scoped>\n",
       "    .dataframe tbody tr th:only-of-type {\n",
       "        vertical-align: middle;\n",
       "    }\n",
       "\n",
       "    .dataframe tbody tr th {\n",
       "        vertical-align: top;\n",
       "    }\n",
       "\n",
       "    .dataframe thead th {\n",
       "        text-align: right;\n",
       "    }\n",
       "</style>\n",
       "<table border=\"1\" class=\"dataframe\">\n",
       "  <thead>\n",
       "    <tr style=\"text-align: right;\">\n",
       "      <th></th>\n",
       "      <th>metro</th>\n",
       "      <th>precio</th>\n",
       "    </tr>\n",
       "  </thead>\n",
       "  <tbody>\n",
       "    <tr>\n",
       "      <th>0</th>\n",
       "      <td>5</td>\n",
       "      <td>375</td>\n",
       "    </tr>\n",
       "    <tr>\n",
       "      <th>1</th>\n",
       "      <td>15</td>\n",
       "      <td>487</td>\n",
       "    </tr>\n",
       "    <tr>\n",
       "      <th>2</th>\n",
       "      <td>20</td>\n",
       "      <td>450</td>\n",
       "    </tr>\n",
       "    <tr>\n",
       "      <th>3</th>\n",
       "      <td>25</td>\n",
       "      <td>500</td>\n",
       "    </tr>\n",
       "  </tbody>\n",
       "</table>\n",
       "</div>"
      ],
      "text/plain": [
       "   metro  precio\n",
       "0      5     375\n",
       "1     15     487\n",
       "2     20     450\n",
       "3     25     500"
      ]
     },
     "execution_count": 3,
     "metadata": {},
     "output_type": "execute_result"
    }
   ],
   "source": [
    "data"
   ]
  },
  {
   "cell_type": "code",
   "execution_count": 4,
   "id": "c5034ff7-3594-4b56-87ee-c8343df3a9ad",
   "metadata": {
    "tags": []
   },
   "outputs": [
    {
     "data": {
      "text/plain": [
       "<bound method NDFrame.describe of    metro  precio\n",
       "0      5     375\n",
       "1     15     487\n",
       "2     20     450\n",
       "3     25     500>"
      ]
     },
     "execution_count": 4,
     "metadata": {},
     "output_type": "execute_result"
    }
   ],
   "source": [
    "data.columns\n",
    "data.info\n",
    "data.describe"
   ]
  },
  {
   "cell_type": "code",
   "execution_count": 5,
   "id": "9deaa847-6cdc-449c-b82b-a0a2c9154c53",
   "metadata": {
    "tags": []
   },
   "outputs": [
    {
     "data": {
      "image/png": "[encoded data removed]",
      "text/plain": [
       "<Figure size 640x480 with 1 Axes>"
      ]
     },
     "metadata": {},
     "output_type": "display_data"
    }
   ],
   "source": [
    "data.plot.scatter(x=\"metro\", y=\"precio\")\n",
    "plt.show()"
   ]
  },
  {
   "cell_type": "code",
   "execution_count": 8,
   "id": "35262c57-741e-4fc0-8954-42919e9e0275",
   "metadata": {
    "tags": []
   },
   "outputs": [],
   "source": [
    "# Ejemplo Regresión Lineal\n",
    " \n",
    "regresion = linear_model.LinearRegression()"
   ]
  },
  {
   "cell_type": "code",
   "execution_count": 9,
   "id": "4701f90a-002d-4cd1-b025-13ee7c5b87bc",
   "metadata": {
    "tags": []
   },
   "outputs": [],
   "source": [
    "#Agrego los datos en un array o vector\n",
    "metros = data[\"metro\"].values.reshape((-1,1))"
   ]
  },
  {
   "cell_type": "code",
   "execution_count": 10,
   "id": "9e97f8cd-d8ce-409c-8c20-7dd1d853959f",
   "metadata": {
    "tags": []
   },
   "outputs": [
    {
     "name": "stdout",
     "output_type": "stream",
     "text": [
      "Interseccion (b) 361.25714285714287\n",
      "Pendiente (m) [5.64571429]\n"
     ]
    }
   ],
   "source": [
    "modelo = regresion.fit(metros, data[\"precio\"])\n",
    "\n",
    "print(\"Interseccion (b)\", modelo.intercept_)\n",
    "#imprimos la pendiente\n",
    "print(\"Pendiente (m)\", modelo.coef_)"
   ]
  },
  {
   "cell_type": "code",
   "execution_count": 11,
   "id": "1ff88be6-5e80-419a-aa6c-9936701a10c3",
   "metadata": {
    "tags": []
   },
   "outputs": [
    {
     "name": "stdout",
     "output_type": "stream",
     "text": [
      "[389.48571429 417.71428571 462.88       496.75428571]\n"
     ]
    }
   ],
   "source": [
    "entrada= [[5],[10],[18],[24]]\n",
    "predicciones = modelo.predict(entrada)\n",
    "print(predicciones)"
   ]
  },
  {
   "cell_type": "code",
   "execution_count": 12,
   "id": "8f5fe0e6-c28f-44e7-b4b2-d35c4c609c04",
   "metadata": {
    "tags": []
   },
   "outputs": [
    {
     "data": {
      "image/png": "[encoded data removed]",
      "text/plain": [
       "<Figure size 640x480 with 1 Axes>"
      ]
     },
     "metadata": {},
     "output_type": "display_data"
    }
   ],
   "source": [
    "data.plot.scatter(x=\"metro\", y=\"precio\", label='Datos originales')\n",
    "plt.scatter(entrada, predicciones, color='red')\n",
    "plt.plot(entrada, predicciones, color='black', label='Línea de regresión')\n",
    "plt.xlabel('metro')\n",
    "plt.ylabel('precio')\n",
    "plt.legend()\n",
    "plt.show()"
   ]
  },
  {
   "cell_type": "code",
   "execution_count": null,
   "id": "f0771eb9-fc53-492c-9b9a-7353d2245a3c",
   "metadata": {},
   "outputs": [],
   "source": []
  }
 ],
 "metadata": {
  "kernelspec": {
   "display_name": "Python 3 (ipykernel)",
   "language": "python",
   "name": "python3"
  },
  "language_info": {
   "codemirror_mode": {
    "name": "ipython",
    "version": 3
   },
   "file_extension": ".py",
   "mimetype": "text/x-python",
   "name": "python",
   "nbconvert_exporter": "python",
   "pygments_lexer": "ipython3",
   "version": "3.11.4"
  }
 },
 "nbformat": 4,
 "nbformat_minor": 5
}
